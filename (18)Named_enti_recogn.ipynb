{
  "nbformat": 4,
  "nbformat_minor": 0,
  "metadata": {
    "colab": {
      "provenance": [],
      "authorship_tag": "ABX9TyMgUiJ+V8bqlKfZs5uLKR85",
      "include_colab_link": true
    },
    "kernelspec": {
      "name": "python3",
      "display_name": "Python 3"
    },
    "language_info": {
      "name": "python"
    }
  },
  "cells": [
    {
      "cell_type": "markdown",
      "metadata": {
        "id": "view-in-github",
        "colab_type": "text"
      },
      "source": [
        "<a href=\"https://colab.research.google.com/github/supriyasupriyakonda/NLP/blob/main/(18)Named_enti_recogn.ipynb\" target=\"_parent\"><img src=\"https://colab.research.google.com/assets/colab-badge.svg\" alt=\"Open In Colab\"/></a>"
      ]
    },
    {
      "cell_type": "code",
      "execution_count": 1,
      "metadata": {
        "colab": {
          "base_uri": "https://localhost:8080/"
        },
        "id": "ot28ENC7_eO7",
        "outputId": "9a44274d-3a3a-42f5-ee50-4891168560bb"
      },
      "outputs": [
        {
          "output_type": "stream",
          "name": "stdout",
          "text": [
            "Entity: France, Label: GPE\n",
            "Entity: Paris, Label: GPE\n",
            "Entity: the Eiffel Tower, Label: FAC\n"
          ]
        }
      ],
      "source": [
        "import spacy\n",
        "\n",
        "def perform_ner(text):\n",
        "    # Load spaCy English language model\n",
        "    nlp = spacy.load(\"en_core_web_sm\")\n",
        "\n",
        "    # Process the input text\n",
        "    doc = nlp(text)\n",
        "\n",
        "    # Extract named entities\n",
        "    entities = [(entity.text, entity.label_) for entity in doc.ents]\n",
        "\n",
        "    return entities\n",
        "\n",
        "# Example text\n",
        "input_text = \"The capital of France is Paris, and it's known for the Eiffel Tower.\"\n",
        "\n",
        "# Perform Named Entity Recognition\n",
        "ner_results = perform_ner(input_text)\n",
        "\n",
        "# Print the named entities and their labels\n",
        "for entity, label in ner_results:\n",
        "    print(f\"Entity: {entity}, Label: {label}\")"
      ]
    }
  ]
}