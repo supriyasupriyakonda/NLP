{
  "nbformat": 4,
  "nbformat_minor": 0,
  "metadata": {
    "colab": {
      "provenance": [],
      "authorship_tag": "ABX9TyP1NvOhHTmAf/iRZrr7TT3O",
      "include_colab_link": true
    },
    "kernelspec": {
      "name": "python3",
      "display_name": "Python 3"
    },
    "language_info": {
      "name": "python"
    }
  },
  "cells": [
    {
      "cell_type": "markdown",
      "metadata": {
        "id": "view-in-github",
        "colab_type": "text"
      },
      "source": [
        "<a href=\"https://colab.research.google.com/github/supriyasupriyakonda/NLP/blob/main/(5)porter_stemmer.ipynb\" target=\"_parent\"><img src=\"https://colab.research.google.com/assets/colab-badge.svg\" alt=\"Open In Colab\"/></a>"
      ]
    },
    {
      "cell_type": "code",
      "execution_count": 1,
      "metadata": {
        "colab": {
          "base_uri": "https://localhost:8080/"
        },
        "id": "I6lcbrcPLgLt",
        "outputId": "57273c73-8084-4c68-eec5-17c0e11bd563"
      },
      "outputs": [
        {
          "output_type": "stream",
          "name": "stderr",
          "text": [
            "[nltk_data] Downloading package punkt to /root/nltk_data...\n",
            "[nltk_data]   Unzipping tokenizers/punkt.zip.\n"
          ]
        },
        {
          "output_type": "stream",
          "name": "stdout",
          "text": [
            "Before: jumps\tAfter: jump\n",
            "Before: jumping\tAfter: jump\n",
            "Before: jumper\tAfter: jumper\n",
            "Before: jumped\tAfter: jump\n",
            "Before: easily\tAfter: easili\n",
            "Before: running\tAfter: run\n",
            "Before: flies\tAfter: fli\n",
            "Before: flying\tAfter: fli\n",
            "Before: flies\tAfter: fli\n"
          ]
        }
      ],
      "source": [
        "import nltk\n",
        "from nltk.stem import PorterStemmer\n",
        "\n",
        "nltk.download('punkt')\n",
        "\n",
        "def apply_porter_stemmer(word_list):\n",
        "    porter = PorterStemmer()\n",
        "    stemmed_words = [porter.stem(word) for word in word_list]\n",
        "    return stemmed_words\n",
        "\n",
        "# Example usage\n",
        "words_before_stemming = [\"jumps\", \"jumping\", \"jumper\", \"jumped\", \"easily\", \"running\", \"flies\", \"flying\", \"flies\"]\n",
        "\n",
        "words_after_stemming = apply_porter_stemmer(words_before_stemming)\n",
        "\n",
        "# Print before and after stemming\n",
        "for before, after in zip(words_before_stemming, words_after_stemming):\n",
        "    print(f\"Before: {before}\\tAfter: {after}\")"
      ]
    }
  ]
}