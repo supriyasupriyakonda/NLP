{
  "nbformat": 4,
  "nbformat_minor": 0,
  "metadata": {
    "colab": {
      "provenance": [],
      "authorship_tag": "ABX9TyOc1XCxTfx+x32V6IOSY91G",
      "include_colab_link": true
    },
    "kernelspec": {
      "name": "python3",
      "display_name": "Python 3"
    },
    "language_info": {
      "name": "python"
    }
  },
  "cells": [
    {
      "cell_type": "markdown",
      "metadata": {
        "id": "view-in-github",
        "colab_type": "text"
      },
      "source": [
        "<a href=\"https://colab.research.google.com/github/supriyasupriyakonda/NLP/blob/main/(1).ipynb\" target=\"_parent\"><img src=\"https://colab.research.google.com/assets/colab-badge.svg\" alt=\"Open In Colab\"/></a>"
      ]
    },
    {
      "cell_type": "code",
      "source": [
        "import re\n",
        "\n",
        "def extract_emails(text):\n",
        "    # Define a regular expression pattern for matching email addresses\n",
        "    email_pattern = r'\\b[A-Za-z0-9._%+-]+@[A-Za-z0-9.-]+\\.[A-Z|a-z]{2,}\\b'\n",
        "\n",
        "    # Use re.findall to find all email addresses in the text\n",
        "    emails = re.findall(email_pattern, text)\n",
        "\n",
        "    return emails\n",
        "\n",
        "def validate_email(email):\n",
        "    # Define a regular expression pattern for validating email addresses\n",
        "    email_pattern = r'\\b[A-Za-z0-9._%+-]+@[A-Za-z0-9.-]+\\.[A-Z|a-z]{2,}\\b'\n",
        "\n",
        "    # Use re.match to check if the email matches the pattern\n",
        "    return re.match(email_pattern, email) is not None\n",
        "\n",
        "# Example usage\n",
        "text_to_search = \"Contact us at john.doe@example.com or support@company.com for assistance.\"\n",
        "\n",
        "# Extracting emails from the text\n",
        "extracted_emails = extract_emails(text_to_search)\n",
        "print(\"Extracted Emails:\", extracted_emails)\n",
        "\n",
        "# Validating each extracted email\n",
        "for email in extracted_emails:\n",
        "    if validate_email(email):\n",
        "        print(f\"{email} is a valid email address.\")\n",
        "    else:\n",
        "        print(f\"{email} is not a valid email address.\")"
      ],
      "metadata": {
        "colab": {
          "base_uri": "https://localhost:8080/"
        },
        "id": "wPRvpMcvFFoV",
        "outputId": "3a2ab39e-2781-4d44-a570-ba4f92d43af8"
      },
      "execution_count": 4,
      "outputs": [
        {
          "output_type": "stream",
          "name": "stdout",
          "text": [
            "Extracted Emails: ['john.doe@example.com', 'support@company.com']\n",
            "john.doe@example.com is a valid email address.\n",
            "support@company.com is a valid email address.\n"
          ]
        }
      ]
    }
  ]
}