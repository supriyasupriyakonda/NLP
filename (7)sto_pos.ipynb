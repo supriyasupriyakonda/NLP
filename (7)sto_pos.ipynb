{
  "nbformat": 4,
  "nbformat_minor": 0,
  "metadata": {
    "colab": {
      "provenance": [],
      "authorship_tag": "ABX9TyMuCpxOmtWxs0cwtTWcAr3S",
      "include_colab_link": true
    },
    "kernelspec": {
      "name": "python3",
      "display_name": "Python 3"
    },
    "language_info": {
      "name": "python"
    }
  },
  "cells": [
    {
      "cell_type": "markdown",
      "metadata": {
        "id": "view-in-github",
        "colab_type": "text"
      },
      "source": [
        "<a href=\"https://colab.research.google.com/github/supriyasupriyakonda/NLP/blob/main/(7)sto_pos.ipynb\" target=\"_parent\"><img src=\"https://colab.research.google.com/assets/colab-badge.svg\" alt=\"Open In Colab\"/></a>"
      ]
    },
    {
      "cell_type": "code",
      "execution_count": 1,
      "metadata": {
        "colab": {
          "base_uri": "https://localhost:8080/"
        },
        "id": "CtQZINIsN82A",
        "outputId": "eb9782da-8ff7-4f25-f91d-870acf9674ab"
      },
      "outputs": [
        {
          "output_type": "stream",
          "name": "stderr",
          "text": [
            "[nltk_data] Downloading package punkt to /root/nltk_data...\n",
            "[nltk_data]   Unzipping tokenizers/punkt.zip.\n",
            "[nltk_data] Downloading package brown to /root/nltk_data...\n",
            "[nltk_data]   Unzipping corpora/brown.zip.\n",
            "[nltk_data] Downloading package universal_tagset to /root/nltk_data...\n",
            "[nltk_data]   Unzipping taggers/universal_tagset.zip.\n"
          ]
        },
        {
          "output_type": "stream",
          "name": "stdout",
          "text": [
            "Original Sentence: The red car stopped at the traffic light\n",
            "Stochastic POS Tagging: [('The', 'DET'), ('red', 'ADJ'), ('car', 'NOUN'), ('stopped', 'VERB'), ('at', 'ADP'), ('the', 'DET'), ('traffic', 'NOUN'), ('light', 'NOUN')]\n",
            "\n",
            "Original Sentence: She quickly ran to catch the bus\n",
            "Stochastic POS Tagging: [('She', 'PRON'), ('quickly', 'ADV'), ('ran', 'VERB'), ('to', 'PRT'), ('catch', 'VERB'), ('the', 'DET'), ('bus', 'NOUN')]\n",
            "\n"
          ]
        }
      ],
      "source": [
        "import nltk\n",
        "from nltk.tokenize import word_tokenize\n",
        "from nltk.tag import BrillTaggerTrainer\n",
        "from nltk.tag.brill import BrillTagger\n",
        "\n",
        "nltk.download('punkt')\n",
        "nltk.download('brown')\n",
        "nltk.download('universal_tagset')\n",
        "\n",
        "def train_brill_tagger(tagged_corpus):\n",
        "    baseline_tagger = nltk.UnigramTagger(tagged_corpus)\n",
        "    templates = nltk.tag.brill.fntbl37()\n",
        "    trainer = BrillTaggerTrainer(baseline_tagger, templates)\n",
        "    brill_tagger = trainer.train(tagged_corpus, max_rules=10)\n",
        "\n",
        "    return brill_tagger\n",
        "\n",
        "def stochastic_pos_tagging(text, tagger):\n",
        "    words = word_tokenize(text)\n",
        "    tagged_words = tagger.tag(words)\n",
        "    return tagged_words\n",
        "\n",
        "# Example usage\n",
        "sentences = [\n",
        "    \"The red car stopped at the traffic light\",\n",
        "    \"She quickly ran to catch the bus\"\n",
        "    ]\n",
        "\n",
        "# Training the BrillTagger on the Brown corpus (you can use a larger corpus for better performance)\n",
        "tagged_corpus = nltk.corpus.brown.tagged_sents(tagset='universal')\n",
        "brill_tagger = train_brill_tagger(tagged_corpus)\n",
        "\n",
        "# Stochastic part-of-speech tagging for each sentence\n",
        "for sentence in sentences:\n",
        "    tagged_sentence = stochastic_pos_tagging(sentence, brill_tagger)\n",
        "    print(f\"Original Sentence: {sentence}\")\n",
        "    print(\"Stochastic POS Tagging:\", tagged_sentence)\n",
        "    print()\n"
      ]
    }
  ]
}