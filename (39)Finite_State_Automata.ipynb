{
  "nbformat": 4,
  "nbformat_minor": 0,
  "metadata": {
    "colab": {
      "provenance": [],
      "authorship_tag": "ABX9TyNmeGTJrVO9Qnapt7GCeWTD",
      "include_colab_link": true
    },
    "kernelspec": {
      "name": "python3",
      "display_name": "Python 3"
    },
    "language_info": {
      "name": "python"
    }
  },
  "cells": [
    {
      "cell_type": "markdown",
      "metadata": {
        "id": "view-in-github",
        "colab_type": "text"
      },
      "source": [
        "<a href=\"https://colab.research.google.com/github/supriyasupriyakonda/NLP/blob/main/(39)Finite_State_Automata.ipynb\" target=\"_parent\"><img src=\"https://colab.research.google.com/assets/colab-badge.svg\" alt=\"Open In Colab\"/></a>"
      ]
    },
    {
      "cell_type": "code",
      "execution_count": 2,
      "metadata": {
        "colab": {
          "base_uri": "https://localhost:8080/"
        },
        "id": "VgIC2-FXS_iX",
        "outputId": "5faf706d-3134-4438-ac03-4f46616bf992"
      },
      "outputs": [
        {
          "output_type": "stream",
          "name": "stdout",
          "text": [
            "31/12/2022 is valid: False\n",
            "15/05/1985 is valid: False\n",
            "02/29/2021 is valid: False\n"
          ]
        }
      ],
      "source": [
        "class DateFSM:\n",
        "    def __init__(self):\n",
        "        self.states = {'start', 'day', 'separator1', 'month', 'separator2', 'year', 'accept'}\n",
        "        self.transitions = {\n",
        "            'start': {'0': 'day', '1-3': 'day'},\n",
        "            'day': {'0-9': 'day', '/': 'separator1'},\n",
        "            'separator1': {'/': 'month'},\n",
        "            'month': {'0': 'month', '1': 'month', '2': 'month', '/': 'separator2'},\n",
        "            'separator2': {'/': 'year'},\n",
        "            'year': {'0-9': 'year', 'accept': 'accept'},\n",
        "        }\n",
        "\n",
        "    def recognize_date(self, date_str):\n",
        "        current_state = 'start'\n",
        "        for char in date_str:\n",
        "            if char.isdigit():\n",
        "                char_type = '0-9'\n",
        "            else:\n",
        "                char_type = char\n",
        "\n",
        "            if char_type in self.transitions[current_state]:\n",
        "                current_state = self.transitions[current_state][char_type]\n",
        "            else:\n",
        "                return False\n",
        "\n",
        "        return current_state == 'accept'\n",
        "\n",
        "\n",
        "# Example usage\n",
        "date_fsm = DateFSM()\n",
        "date1 = \"31/12/2022\"\n",
        "date2 = \"15/05/1985\"\n",
        "date3 = \"02/29/2021\"  # Invalid leap year date\n",
        "\n",
        "print(f\"{date1} is valid: {date_fsm.recognize_date(date1)}\")\n",
        "print(f\"{date2} is valid: {date_fsm.recognize_date(date2)}\")\n",
        "print(f\"{date3} is valid: {date_fsm.recognize_date(date3)}\")\n"
      ]
    }
  ]
}