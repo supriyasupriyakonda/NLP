{
  "nbformat": 4,
  "nbformat_minor": 0,
  "metadata": {
    "colab": {
      "provenance": [],
      "authorship_tag": "ABX9TyMwOwUBdzyaf0Eeh5TC1YgR",
      "include_colab_link": true
    },
    "kernelspec": {
      "name": "python3",
      "display_name": "Python 3"
    },
    "language_info": {
      "name": "python"
    }
  },
  "cells": [
    {
      "cell_type": "markdown",
      "metadata": {
        "id": "view-in-github",
        "colab_type": "text"
      },
      "source": [
        "<a href=\"https://colab.research.google.com/github/supriyasupriyakonda/NLP/blob/main/(16)Named_entity_recogni.ipynb\" target=\"_parent\"><img src=\"https://colab.research.google.com/assets/colab-badge.svg\" alt=\"Open In Colab\"/></a>"
      ]
    },
    {
      "cell_type": "code",
      "execution_count": 1,
      "metadata": {
        "colab": {
          "base_uri": "https://localhost:8080/"
        },
        "id": "dVS1wxF98P0k",
        "outputId": "dd14e8f2-b790-42a4-b4e7-1de92532504c"
      },
      "outputs": [
        {
          "output_type": "stream",
          "name": "stdout",
          "text": [
            "\n",
            "Original Sentence: Apple Inc. is headquartered in Cupertino, California, and its CEO, Tim Cook, often delivers keynote speeches.\n",
            "Entity: Apple Inc., Label: ORG\n",
            "Entity: Cupertino, Label: GPE\n",
            "Entity: California, Label: GPE\n",
            "Entity: Tim Cook, Label: PERSON\n",
            "\n",
            "Original Sentence: The Eiffel Tower in Paris, France, is a popular tourist attraction.\n",
            "Entity: The Eiffel Tower, Label: FAC\n",
            "Entity: Paris, Label: GPE\n",
            "Entity: France, Label: GPE\n"
          ]
        }
      ],
      "source": [
        "import spacy\n",
        "\n",
        "# Load the English model \"en_core_web_sm\"\n",
        "nlp = spacy.load(\"en_core_web_sm\")\n",
        "\n",
        "# Given sentences\n",
        "sentences = [\n",
        "    \"Apple Inc. is headquartered in Cupertino, California, and its CEO, Tim Cook, often delivers keynote speeches.\",\n",
        "    \"The Eiffel Tower in Paris, France, is a popular tourist attraction.\"\n",
        "]\n",
        "\n",
        "# Perform Named Entity Recognition (NER) for each sentence\n",
        "for sentence in sentences:\n",
        "    # Process the text using SpaCy\n",
        "    doc = nlp(sentence)\n",
        "\n",
        "    # Print named entities and their labels\n",
        "    print(\"\\nOriginal Sentence:\", sentence)\n",
        "    for ent in doc.ents:\n",
        "        print(f\"Entity: {ent.text}, Label: {ent.label_}\")"
      ]
    }
  ]
}