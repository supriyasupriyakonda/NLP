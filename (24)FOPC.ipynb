{
  "nbformat": 4,
  "nbformat_minor": 0,
  "metadata": {
    "colab": {
      "provenance": [],
      "authorship_tag": "ABX9TyNF8mowSibtduzor7nFko8O",
      "include_colab_link": true
    },
    "kernelspec": {
      "name": "python3",
      "display_name": "Python 3"
    },
    "language_info": {
      "name": "python"
    }
  },
  "cells": [
    {
      "cell_type": "markdown",
      "metadata": {
        "id": "view-in-github",
        "colab_type": "text"
      },
      "source": [
        "<a href=\"https://colab.research.google.com/github/supriyasupriyakonda/NLP/blob/main/(24)FOPC.ipynb\" target=\"_parent\"><img src=\"https://colab.research.google.com/assets/colab-badge.svg\" alt=\"Open In Colab\"/></a>"
      ]
    },
    {
      "cell_type": "code",
      "execution_count": 1,
      "metadata": {
        "colab": {
          "base_uri": "https://localhost:8080/"
        },
        "id": "rz6_sjuAa9J5",
        "outputId": "a8697fd8-6450-48d5-e84d-68a5b2e2b93a"
      },
      "outputs": [
        {
          "output_type": "stream",
          "name": "stdout",
          "text": [
            "\n",
            "Expression 1: x and y\n",
            "Result: ['x', 'and', 'y']\n",
            "\n",
            "Expression 2: x or (not y)\n",
            "Result: ['x', 'or', ['not', 'y']]\n",
            "\n",
            "Expression 3: x and (y or (not x))\n",
            "Result: ['x', 'and', ['y', 'or', ['not', 'x']]]\n"
          ]
        }
      ],
      "source": [
        "from pyparsing import Word, Literal, Keyword, infixNotation, opAssoc\n",
        "\n",
        "# Define the logical operators and symbols\n",
        "and_ = Keyword(\"and\")\n",
        "or_ = Keyword(\"or\")\n",
        "not_ = Keyword(\"not\")\n",
        "\n",
        "# Define the variable\n",
        "variable = Word(\"xy\", exact=1)\n",
        "\n",
        "# Define the grammar for basic logical expressions\n",
        "expr = infixNotation(variable, [\n",
        "    (not_, 1, opAssoc.RIGHT),\n",
        "    (and_, 2, opAssoc.LEFT),\n",
        "    (or_, 2, opAssoc.LEFT),\n",
        "])\n",
        "\n",
        "# Given expressions\n",
        "expressions = [\n",
        "    \"x and y\",\n",
        "    \"x or (not y)\",\n",
        "    \"x and (y or (not x))\",\n",
        "]\n",
        "\n",
        "# Parse and evaluate each expression\n",
        "for i, expression in enumerate(expressions):\n",
        "    print(f\"\\nExpression {i + 1}: {expression}\")\n",
        "    try:\n",
        "        result = expr.parseString(expression)[0]\n",
        "        print(f\"Result: {result}\")\n",
        "    except Exception as e:\n",
        "        print(f\"Error: {e}\")\n"
      ]
    }
  ]
}