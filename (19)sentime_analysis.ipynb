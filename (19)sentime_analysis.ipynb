{
  "nbformat": 4,
  "nbformat_minor": 0,
  "metadata": {
    "colab": {
      "provenance": [],
      "authorship_tag": "ABX9TyN+6KUJJPhPZ696SyaxNj+x",
      "include_colab_link": true
    },
    "kernelspec": {
      "name": "python3",
      "display_name": "Python 3"
    },
    "language_info": {
      "name": "python"
    }
  },
  "cells": [
    {
      "cell_type": "markdown",
      "metadata": {
        "id": "view-in-github",
        "colab_type": "text"
      },
      "source": [
        "<a href=\"https://colab.research.google.com/github/supriyasupriyakonda/NLP/blob/main/(19)sentime_analysis.ipynb\" target=\"_parent\"><img src=\"https://colab.research.google.com/assets/colab-badge.svg\" alt=\"Open In Colab\"/></a>"
      ]
    },
    {
      "cell_type": "code",
      "execution_count": 2,
      "metadata": {
        "colab": {
          "base_uri": "https://localhost:8080/"
        },
        "id": "Ob4y9yhFAavz",
        "outputId": "0e3dcc44-1624-43b4-b0c8-968eccaf8d30"
      },
      "outputs": [
        {
          "output_type": "stream",
          "name": "stderr",
          "text": [
            "No model was supplied, defaulted to distilbert-base-uncased-finetuned-sst-2-english and revision af0f99b (https://huggingface.co/distilbert-base-uncased-finetuned-sst-2-english).\n",
            "Using a pipeline without specifying a model name and revision in production is not recommended.\n"
          ]
        },
        {
          "output_type": "stream",
          "name": "stdout",
          "text": [
            "Sentiment: POSITIVE, Confidence: 0.9998866319656372\n"
          ]
        }
      ],
      "source": [
        "from transformers import pipeline\n",
        "\n",
        "def analyze_sentiment(text):\n",
        "    # Load sentiment analysis pipeline\n",
        "    sentiment_pipeline = pipeline(\"sentiment-analysis\")\n",
        "\n",
        "    # Analyze sentiment\n",
        "    result = sentiment_pipeline(text)\n",
        "\n",
        "    return result[0]\n",
        "\n",
        "# Example text\n",
        "input_text = \"I love this product! It's amazing.\"\n",
        "\n",
        "# Perform sentiment analysis\n",
        "sentiment_result = analyze_sentiment(input_text)\n",
        "\n",
        "# Print the sentiment and its confidence score\n",
        "print(f\"Sentiment: {sentiment_result['label']}, Confidence: {sentiment_result['score']}\")\n"
      ]
    }
  ]
}