{
  "nbformat": 4,
  "nbformat_minor": 0,
  "metadata": {
    "colab": {
      "provenance": [],
      "authorship_tag": "ABX9TyNkv3g3GHEb2If/7gmCf6G9",
      "include_colab_link": true
    },
    "kernelspec": {
      "name": "python3",
      "display_name": "Python 3"
    },
    "language_info": {
      "name": "python"
    }
  },
  "cells": [
    {
      "cell_type": "markdown",
      "metadata": {
        "id": "view-in-github",
        "colab_type": "text"
      },
      "source": [
        "<a href=\"https://colab.research.google.com/github/supriyasupriyakonda/NLP/blob/main/(32)Evaluate_coherence.ipynb\" target=\"_parent\"><img src=\"https://colab.research.google.com/assets/colab-badge.svg\" alt=\"Open In Colab\"/></a>"
      ]
    },
    {
      "cell_type": "code",
      "execution_count": 1,
      "metadata": {
        "colab": {
          "base_uri": "https://localhost:8080/"
        },
        "id": "9pV1Y2_Nnqqx",
        "outputId": "d823bf97-27c5-44fc-a472-8590da32c047"
      },
      "outputs": [
        {
          "output_type": "stream",
          "name": "stdout",
          "text": [
            "The coherence score of the text is: 1.0\n"
          ]
        }
      ],
      "source": [
        "import re\n",
        "\n",
        "# Sample text\n",
        "sample_text = \"Once upon a time, there was a young boy named Peter.\"\n",
        "\n",
        "# Function to check coherence\n",
        "def check_coherence(text):\n",
        "    sentences = re.split(r'(?<=[.!?]) +', text)\n",
        "    coherence_score = 0\n",
        "\n",
        "    # Simple coherence check based on sentence structure\n",
        "    for sentence in sentences:\n",
        "        # Check if sentence starts with an uppercase letter and ends with punctuation\n",
        "        if sentence[0].isupper() and sentence[-1] in ['.', '!', '?']:\n",
        "            coherence_score += 1\n",
        "\n",
        "    # Normalize coherence score\n",
        "    normalized_score = coherence_score / max(len(sentences), 1)\n",
        "\n",
        "    return normalized_score\n",
        "\n",
        "# Check coherence of the sample text\n",
        "coherence = check_coherence(sample_text)\n",
        "print(f\"The coherence score of the text is: {coherence}\")\n",
        ""
      ]
    }
  ]
}