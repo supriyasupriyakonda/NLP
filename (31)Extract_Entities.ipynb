{
  "nbformat": 4,
  "nbformat_minor": 0,
  "metadata": {
    "colab": {
      "provenance": [],
      "authorship_tag": "ABX9TyOyshjmrNhOHGY3rTEiPknd",
      "include_colab_link": true
    },
    "kernelspec": {
      "name": "python3",
      "display_name": "Python 3"
    },
    "language_info": {
      "name": "python"
    }
  },
  "cells": [
    {
      "cell_type": "markdown",
      "metadata": {
        "id": "view-in-github",
        "colab_type": "text"
      },
      "source": [
        "<a href=\"https://colab.research.google.com/github/supriyasupriyakonda/NLP/blob/main/(31)Extract_Entities.ipynb\" target=\"_parent\"><img src=\"https://colab.research.google.com/assets/colab-badge.svg\" alt=\"Open In Colab\"/></a>"
      ]
    },
    {
      "cell_type": "code",
      "execution_count": 1,
      "metadata": {
        "colab": {
          "base_uri": "https://localhost:8080/"
        },
        "id": "2PlbHJZMm1jV",
        "outputId": "4fee4fff-d1ca-4677-b646-9f6e2719283f"
      },
      "outputs": [
        {
          "output_type": "stream",
          "name": "stderr",
          "text": [
            "[nltk_data] Downloading package punkt to /root/nltk_data...\n",
            "[nltk_data]   Unzipping tokenizers/punkt.zip.\n",
            "[nltk_data] Downloading package averaged_perceptron_tagger to\n",
            "[nltk_data]     /root/nltk_data...\n",
            "[nltk_data]   Unzipping taggers/averaged_perceptron_tagger.zip.\n",
            "[nltk_data] Downloading package maxent_ne_chunker to\n",
            "[nltk_data]     /root/nltk_data...\n",
            "[nltk_data]   Unzipping chunkers/maxent_ne_chunker.zip.\n",
            "[nltk_data] Downloading package words to /root/nltk_data...\n",
            "[nltk_data]   Unzipping corpora/words.zip.\n"
          ]
        },
        {
          "output_type": "stream",
          "name": "stdout",
          "text": [
            "Original Text:\n",
            "Harvard University, located in Cambridge, Massachusetts, is a prestigious institution.\n",
            "\n",
            "Resolved Text:\n",
            "[ORGANIZATION: Harvard] [Location: University] , located in [Location: Cambridge] , [Location: Massachusetts] , is a prestigious institution .\n"
          ]
        }
      ],
      "source": [
        "\n",
        "\n",
        "import nltk\n",
        "from nltk import word_tokenize, pos_tag, ne_chunk\n",
        "\n",
        "# Download NLTK data (if not already downloaded)\n",
        "nltk.download('punkt')\n",
        "nltk.download('averaged_perceptron_tagger')\n",
        "nltk.download('maxent_ne_chunker')\n",
        "nltk.download('words')\n",
        "\n",
        "def extract_named_entities(text):\n",
        "    words = word_tokenize(text)\n",
        "    pos_tags = pos_tag(words)\n",
        "    named_entities = ne_chunk(pos_tags)\n",
        "    return named_entities\n",
        "\n",
        "def resolve_references(named_entities):\n",
        "    resolved_text = \"\"\n",
        "    for chunk in named_entities:\n",
        "        if isinstance(chunk, nltk.Tree):\n",
        "            entity_type = chunk.label()\n",
        "            entity_text = ' '.join(c[0] for c in chunk.leaves())\n",
        "\n",
        "            if entity_type == 'GPE':\n",
        "                resolved_text += f\"[Location: {entity_text}] \"\n",
        "            elif entity_type == 'PERSON':\n",
        "                resolved_text += f\"[Person: {entity_text}] \"\n",
        "            else:\n",
        "                resolved_text += f\"[{entity_type}: {entity_text}] \"\n",
        "        else:\n",
        "            resolved_text += chunk[0] + ' '\n",
        "\n",
        "    return resolved_text.strip()\n",
        "\n",
        "# Example text\n",
        "input_text = \"Harvard University, located in Cambridge, Massachusetts, is a prestigious institution.\"\n",
        "\n",
        "# Extract named entities\n",
        "named_entities_result = extract_named_entities(input_text)\n",
        "\n",
        "# Perform reference resolution\n",
        "resolved_text = resolve_references(named_entities_result)\n",
        "\n",
        "print(\"Original Text:\")\n",
        "print(input_text)\n",
        "print(\"\\nResolved Text:\")\n",
        "print(resolved_text)\n",
        "\n"
      ]
    }
  ]
}