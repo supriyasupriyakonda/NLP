{
  "nbformat": 4,
  "nbformat_minor": 0,
  "metadata": {
    "colab": {
      "provenance": [],
      "authorship_tag": "ABX9TyPqYGnAzM2T5vps0CDscPBr",
      "include_colab_link": true
    },
    "kernelspec": {
      "name": "python3",
      "display_name": "Python 3"
    },
    "language_info": {
      "name": "python"
    }
  },
  "cells": [
    {
      "cell_type": "markdown",
      "metadata": {
        "id": "view-in-github",
        "colab_type": "text"
      },
      "source": [
        "<a href=\"https://colab.research.google.com/github/supriyasupriyakonda/NLP/blob/main/(36)RE.ipynb\" target=\"_parent\"><img src=\"https://colab.research.google.com/assets/colab-badge.svg\" alt=\"Open In Colab\"/></a>"
      ]
    },
    {
      "cell_type": "code",
      "execution_count": 1,
      "metadata": {
        "colab": {
          "base_uri": "https://localhost:8080/"
        },
        "id": "OloVLU49Q29L",
        "outputId": "05a60754-f650-45d2-af8a-d14103efe84f"
      },
      "outputs": [
        {
          "output_type": "stream",
          "name": "stdout",
          "text": [
            "Input Sentence: The quick brown fox jumps over the lazy dog. The cat is also agile.\n",
            "Three-letter words: ['The', 'fox', 'the', 'dog', 'The', 'cat']\n"
          ]
        }
      ],
      "source": [
        "import re\n",
        "\n",
        "def extract_words_with_pattern(text, pattern):\n",
        "    matches = re.findall(pattern, text)\n",
        "    return matches\n",
        "\n",
        "# Input sentence\n",
        "input_sentence = \"The quick brown fox jumps over the lazy dog. The cat is also agile.\"\n",
        "\n",
        "# Regular expression pattern\n",
        "pattern = r'\\b\\w{3}\\b'\n",
        "\n",
        "# Extracting three-letter words using the pattern\n",
        "result = extract_words_with_pattern(input_sentence, pattern)\n",
        "\n",
        "# Displaying the result\n",
        "print(\"Input Sentence:\", input_sentence)\n",
        "print(\"Three-letter words:\", result)\n"
      ]
    }
  ]
}