{
  "nbformat": 4,
  "nbformat_minor": 0,
  "metadata": {
    "colab": {
      "provenance": [],
      "authorship_tag": "ABX9TyN5Ack90a3w/8eXaSLdEUdn",
      "include_colab_link": true
    },
    "kernelspec": {
      "name": "python3",
      "display_name": "Python 3"
    },
    "language_info": {
      "name": "python"
    }
  },
  "cells": [
    {
      "cell_type": "markdown",
      "metadata": {
        "id": "view-in-github",
        "colab_type": "text"
      },
      "source": [
        "<a href=\"https://colab.research.google.com/github/supriyasupriyakonda/NLP/blob/main/(38)Porter_Stemmer.ipynb\" target=\"_parent\"><img src=\"https://colab.research.google.com/assets/colab-badge.svg\" alt=\"Open In Colab\"/></a>"
      ]
    },
    {
      "cell_type": "code",
      "execution_count": 2,
      "metadata": {
        "colab": {
          "base_uri": "https://localhost:8080/"
        },
        "id": "I1LaBfcmSNMm",
        "outputId": "5c960f8b-9466-4e51-cc64-c14a99e973a7"
      },
      "outputs": [
        {
          "output_type": "stream",
          "name": "stdout",
          "text": [
            "Original Sentence 1: Coding with Python is very enjoyable.\n",
            "Stemmed Sentence 1: code with python is veri enjoy .\n",
            "\n",
            "Original Sentence 2: I had a delicious meal at the restaurant.\n",
            "Stemmed Sentence 2: i had a delici meal at the restaur .\n"
          ]
        },
        {
          "output_type": "stream",
          "name": "stderr",
          "text": [
            "[nltk_data] Downloading package punkt to /root/nltk_data...\n",
            "[nltk_data]   Package punkt is already up-to-date!\n"
          ]
        }
      ],
      "source": [
        "import nltk\n",
        "from nltk.tokenize import word_tokenize\n",
        "from nltk.stem import PorterStemmer\n",
        "\n",
        "nltk.download('punkt')\n",
        "\n",
        "def perform_stemming(sentence):\n",
        "    tokens = word_tokenize(sentence)\n",
        "    stemmer = PorterStemmer()\n",
        "    stemmed_words = [stemmer.stem(word) for word in tokens]\n",
        "    return ' '.join(stemmed_words)\n",
        "\n",
        "# Sample sentences\n",
        "sentence1 = \"Coding with Python is very enjoyable.\"\n",
        "sentence2 = \"I had a delicious meal at the restaurant.\"\n",
        "\n",
        "# Perform stemming on each sentence\n",
        "stemmed_sentence1 = perform_stemming(sentence1)\n",
        "stemmed_sentence2 = perform_stemming(sentence2)\n",
        "\n",
        "# Display the results\n",
        "print(\"Original Sentence 1:\", sentence1)\n",
        "print(\"Stemmed Sentence 1:\", stemmed_sentence1)\n",
        "print(\"\\nOriginal Sentence 2:\", sentence2)\n",
        "print(\"Stemmed Sentence 2:\", stemmed_sentence2)"
      ]
    }
  ]
}