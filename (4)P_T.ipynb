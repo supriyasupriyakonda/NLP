{
  "nbformat": 4,
  "nbformat_minor": 0,
  "metadata": {
    "colab": {
      "provenance": [],
      "authorship_tag": "ABX9TyPKxVIhYviGfPMvi0yfw3We",
      "include_colab_link": true
    },
    "kernelspec": {
      "name": "python3",
      "display_name": "Python 3"
    },
    "language_info": {
      "name": "python"
    }
  },
  "cells": [
    {
      "cell_type": "markdown",
      "metadata": {
        "id": "view-in-github",
        "colab_type": "text"
      },
      "source": [
        "<a href=\"https://colab.research.google.com/github/supriyasupriyakonda/NLP/blob/main/(4)P_T.ipynb\" target=\"_parent\"><img src=\"https://colab.research.google.com/assets/colab-badge.svg\" alt=\"Open In Colab\"/></a>"
      ]
    },
    {
      "cell_type": "code",
      "source": [
        "import re\n",
        "\n",
        "def parse_sentence(sentence):\n",
        "    fsm = {'s': {'she': 'V1', 'he': 'V1'},\n",
        "           'V1': {'walked': 'VPast', 'jumped': 'VPast', 'ran': 'VPast',\n",
        "                  'played': 'VPast', 'ate': 'VPast', 'slept': 'VPast', 'sang': 'VPast'},\n",
        "           'VPast': {'to': 'PREP', 'over': 'PREP'},\n",
        "           'PREP': {'the': 'N', 'park': 'N', 'fence': 'N'},\n",
        "           'N': {'yesterday': 'END'}}\n",
        "\n",
        "    tokens = re.findall(r'\\w+', sentence.lower())\n",
        "    current_state = 's'\n",
        "\n",
        "    for token in tokens:\n",
        "        if current_state not in fsm or token not in fsm[current_state]:\n",
        "            raise ValueError(f\"Invalid token '{token}' in sentence '{sentence}'\")\n",
        "        else:\n",
        "            current_state = fsm[current_state][token]\n",
        "\n",
        "    if current_state != 'END':\n",
        "        raise ValueError(f\"Incomplete sentence: '{sentence}'\")\n",
        "\n",
        "def generate_past_tense(verb):\n",
        "    if verb in {'walk', 'play', 'run'}:\n",
        "        past_tense = verb + 'ed'\n",
        "    elif verb in {'eat', 'sleep', 'sing'}:\n",
        "        past_tense = verb + 't'\n",
        "    else:\n",
        "        raise ValueError(f\"Unknown verb: '{verb}'\")\n",
        "    return past_tense\n",
        "\n",
        "def test_specific_sentences():\n",
        "    sentences_to_test = [\n",
        "        \"She walked to the park yesterday\",\n",
        "        \"He jumped over the fence\"\n",
        "    ]\n",
        "\n",
        "    for sentence in sentences_to_test:\n",
        "        try:\n",
        "            parse_sentence(sentence)\n",
        "            print(f\"Valid sentence: '{sentence}'\")\n",
        "        except ValueError as e:\n",
        "            print(f\"Error: {e}\")\n",
        "\n",
        "if __name__ == \"__main__\":\n",
        "    test_specific_sentences()"
      ],
      "metadata": {
        "colab": {
          "base_uri": "https://localhost:8080/"
        },
        "id": "eBLEJDRAApZH",
        "outputId": "37e87eec-b927-4ca7-f232-1e162e603d22"
      },
      "execution_count": 8,
      "outputs": [
        {
          "output_type": "stream",
          "name": "stdout",
          "text": [
            "Error: Invalid token 'park' in sentence 'She walked to the park yesterday'\n",
            "Error: Invalid token 'fence' in sentence 'He jumped over the fence'\n"
          ]
        }
      ]
    }
  ]
}