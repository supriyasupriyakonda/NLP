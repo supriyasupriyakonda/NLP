{
  "nbformat": 4,
  "nbformat_minor": 0,
  "metadata": {
    "colab": {
      "provenance": [],
      "authorship_tag": "ABX9TyOQG+VAhXDHXL5k0Wwruk13",
      "include_colab_link": true
    },
    "kernelspec": {
      "name": "python3",
      "display_name": "Python 3"
    },
    "language_info": {
      "name": "python"
    }
  },
  "cells": [
    {
      "cell_type": "markdown",
      "metadata": {
        "id": "view-in-github",
        "colab_type": "text"
      },
      "source": [
        "<a href=\"https://colab.research.google.com/github/supriyasupriyakonda/NLP/blob/main/(23)Access_Wordnet.ipynb\" target=\"_parent\"><img src=\"https://colab.research.google.com/assets/colab-badge.svg\" alt=\"Open In Colab\"/></a>"
      ]
    },
    {
      "cell_type": "code",
      "execution_count": 2,
      "metadata": {
        "colab": {
          "base_uri": "https://localhost:8080/"
        },
        "id": "TRfUhopIJo4a",
        "outputId": "a64622b8-f929-4855-8f43-ca1c4852f532"
      },
      "outputs": [
        {
          "output_type": "stream",
          "name": "stderr",
          "text": [
            "[nltk_data] Downloading package wordnet to /root/nltk_data...\n"
          ]
        },
        {
          "output_type": "execute_result",
          "data": {
            "text/plain": [
              "True"
            ]
          },
          "metadata": {},
          "execution_count": 2
        }
      ],
      "source": [
        "import nltk\n",
        "nltk.download('wordnet')"
      ]
    },
    {
      "cell_type": "code",
      "source": [
        "from nltk.corpus import wordnet\n",
        "\n",
        "def explore_word_meanings(sentence):\n",
        "    words = sentence.split()\n",
        "    for word in words:\n",
        "        synsets = wordnet.synsets(word)\n",
        "        if synsets:\n",
        "            print(f\"\\nWord: {word}\")\n",
        "            print(\"Definitions:\")\n",
        "            for synset in synsets:\n",
        "                print(f\"- {synset.definition()}\")\n",
        "            print(\"Synonyms:\")\n",
        "            synonyms = set()\n",
        "            for synset in synsets:\n",
        "                synonyms.update(synset.lemma_names())\n",
        "            print(f\"- {', '.join(synonyms)}\")\n",
        "\n",
        "# Given sentences\n",
        "sentences = [\n",
        "    \"The cat sat on the mat.\",\n",
        "    \"The dog barked loudly.\",\n",
        "    \"She played the piano beautifully.\",\n",
        "]\n",
        "\n",
        "# Explore word meanings for each sentence\n",
        "for i, sentence in enumerate(sentences):\n",
        "    print(f\"\\nSentence {i + 1}: {sentence}\")\n",
        "    explore_word_meanings(sentence)"
      ],
      "metadata": {
        "id": "tfe1RbsxJ3-E",
        "colab": {
          "base_uri": "https://localhost:8080/"
        },
        "outputId": "eba6cb69-c058-4e2a-845c-f4a13ebfc962"
      },
      "execution_count": 3,
      "outputs": [
        {
          "output_type": "stream",
          "name": "stdout",
          "text": [
            "\n",
            "Sentence 1: The cat sat on the mat.\n",
            "\n",
            "Word: cat\n",
            "Definitions:\n",
            "- feline mammal usually having thick soft fur and no ability to roar: domestic cats; wildcats\n",
            "- an informal term for a youth or man\n",
            "- a spiteful woman gossip\n",
            "- the leaves of the shrub Catha edulis which are chewed like tobacco or used to make tea; has the effect of a euphoric stimulant\n",
            "- a whip with nine knotted cords\n",
            "- a large tracked vehicle that is propelled by two endless metal belts; frequently used for moving earth in construction and farm work\n",
            "- any of several large cats typically able to roar and living in the wild\n",
            "- a method of examining body organs by scanning them with X rays and using a computer to construct a series of cross-sectional scans along a single axis\n",
            "- beat with a cat-o'-nine-tails\n",
            "- eject the contents of the stomach through the mouth\n",
            "Synonyms:\n",
            "- computed_tomography, vomit_up, computerized_axial_tomography, khat, throw_up, true_cat, chuck, cat, vomit, kat, quat, cat-o'-nine-tails, honk, cast, regorge, hombre, computerized_tomography, upchuck, regurgitate, bozo, Arabian_tea, disgorge, spue, Caterpillar, be_sick, CT, computed_axial_tomography, retch, African_tea, spew, puke, guy, qat, purge, CAT, big_cat, sick, barf\n",
            "\n",
            "Word: sat\n",
            "Definitions:\n",
            "- the seventh and last day of the week; observed as the Sabbath by Jews and some Christians\n",
            "- be seated\n",
            "- be around, often idly or without specific purpose\n",
            "- take a seat\n",
            "- be in session\n",
            "- assume a posture as for artistic purposes\n",
            "- sit and travel on the back of animal, usually while controlling its motions\n",
            "- be located or situated somewhere\n",
            "- work or act as a baby-sitter\n",
            "- show to a seat; assign a seat for\n",
            "- serve in a specific professional capacity\n",
            "Synonyms:\n",
            "- Saturday, posture, seat, baby-sit, pose, Sabbatum, sit_down, sit_around, ride, Sat, model, sit\n",
            "\n",
            "Word: on\n",
            "Definitions:\n",
            "- in operation or operational\n",
            "- (of events) planned or scheduled\n",
            "- with a forward motion\n",
            "- indicates continuity or persistence or concentration\n",
            "- in a state required for something to function or be effective\n",
            "Synonyms:\n",
            "- on, along\n",
            "\n",
            "Sentence 2: The dog barked loudly.\n",
            "\n",
            "Word: dog\n",
            "Definitions:\n",
            "- a member of the genus Canis (probably descended from the common wolf) that has been domesticated by man since prehistoric times; occurs in many breeds\n",
            "- a dull unattractive unpleasant girl or woman\n",
            "- informal term for a man\n",
            "- someone who is morally reprehensible\n",
            "- a smooth-textured sausage of minced beef or pork usually smoked; often served on a bread roll\n",
            "- a hinged catch that fits into a notch of a ratchet to move a wheel forward or prevent it from moving backward\n",
            "- metal supports for logs in a fireplace\n",
            "- go after with the intent to catch\n",
            "Synonyms:\n",
            "- go_after, tag, heel, tail, dog-iron, trail, chase, bounder, frankfurter, hound, frank, blackguard, wiener, frump, weenie, cad, wienerwurst, hotdog, dog, give_chase, andiron, hot_dog, Canis_familiaris, track, detent, domestic_dog, click, chase_after, pawl, firedog\n",
            "\n",
            "Word: barked\n",
            "Definitions:\n",
            "- speak in an unfriendly tone\n",
            "- cover with bark\n",
            "- remove the bark of a tree\n",
            "- make barking sounds\n",
            "- tan (a skin) with bark tannins\n",
            "Synonyms:\n",
            "- skin, bark\n",
            "\n",
            "Sentence 3: She played the piano beautifully.\n",
            "\n",
            "Word: played\n",
            "Definitions:\n",
            "- participate in games or sport\n",
            "- act or have an effect in a specified way or with a specific effect or outcome\n",
            "- play on an instrument\n",
            "- play a role or part\n",
            "- be at play; be engaged in playful activity; amuse oneself in a way characteristic of children\n",
            "- replay (as a melody)\n",
            "- perform music on (a musical instrument)\n",
            "- pretend to have certain qualities or state of mind\n",
            "- move or seem to move quickly, lightly, or irregularly\n",
            "- bet or wager (money)\n",
            "- engage in recreational activities rather than work; occupy oneself in a diversion\n",
            "- pretend to be somebody in the framework of a game or playful activity\n",
            "- emit recorded sound\n",
            "- perform on a certain location\n",
            "- put (a card or piece) into play during a game, or act strategically as if in a card game\n",
            "- engage in an activity as if it were a game rather than take it seriously\n",
            "- behave in a certain way\n",
            "- cause to emit recorded audio or video\n",
            "- manipulate manually or in one's mind or imagination\n",
            "- use to one's advantage\n",
            "- consider not very seriously\n",
            "- be received or accepted or interpreted in a specific way\n",
            "- behave carelessly or indifferently\n",
            "- cause to move or operate freely within a bounded space\n",
            "- perform on a stage or theater\n",
            "- be performed or presented for public viewing\n",
            "- cause to happen or to occur as a consequence\n",
            "- discharge or direct or be discharged or directed as if in a continuous stream\n",
            "- make bets\n",
            "- stake on the outcome of an issue\n",
            "- shoot or hit in a particular manner\n",
            "- use or move\n",
            "- employ in a game or in a specific position\n",
            "- contend against an opponent in a sport, game, or battle\n",
            "- exhaust by allowing to pull on the line\n",
            "- (of games) engaged in\n",
            "Synonyms:\n",
            "- fiddle, dally, bring, recreate, work, bet, flirt, run, diddle, encounter, take_on, wreak, represent, act, wager, trifle, make_for, spiel, play, toy, playact, roleplay, meet, played, act_as\n",
            "\n",
            "Word: piano\n",
            "Definitions:\n",
            "- a keyboard instrument that is played by depressing keys that cause hammers to strike tuned strings and produce sounds\n",
            "- (music) low loudness\n",
            "- used chiefly as a direction or description in music\n",
            "- used as a direction in music; to be played relatively softly\n",
            "Synonyms:\n",
            "- forte-piano, pianissimo, piano, softly, soft, pianoforte\n"
          ]
        }
      ]
    }
  ]
}