{
  "nbformat": 4,
  "nbformat_minor": 0,
  "metadata": {
    "colab": {
      "provenance": [],
      "authorship_tag": "ABX9TyPLsbEv2Tuz0qR7QRIDAeat",
      "include_colab_link": true
    },
    "kernelspec": {
      "name": "python3",
      "display_name": "Python 3"
    },
    "language_info": {
      "name": "python"
    }
  },
  "cells": [
    {
      "cell_type": "markdown",
      "metadata": {
        "id": "view-in-github",
        "colab_type": "text"
      },
      "source": [
        "<a href=\"https://colab.research.google.com/github/supriyasupriyakonda/NLP/blob/main/(33)Recognize_dialog.ipynb\" target=\"_parent\"><img src=\"https://colab.research.google.com/assets/colab-badge.svg\" alt=\"Open In Colab\"/></a>"
      ]
    },
    {
      "cell_type": "code",
      "execution_count": 1,
      "metadata": {
        "colab": {
          "base_uri": "https://localhost:8080/"
        },
        "id": "IBsLH0RMoLfO",
        "outputId": "8d7fcb91-575e-431a-bee0-0e241b3ffc4e"
      },
      "outputs": [
        {
          "output_type": "stream",
          "name": "stdout",
          "text": [
            "Dialog Act: greeting\n",
            "Utterance: Good morning! How's the weather today?\n",
            "\n",
            "Dialog Act: weather report\n",
            "Utterance: I heard it's going to be sunny and warm.\n",
            "\n",
            "Dialog Act: request\n",
            "Utterance: Could you please send me the report by 3 PM?\n",
            "\n",
            "Dialog Act: confirmation\n",
            "Utterance: Of course, I'll send it over before the deadline.\n",
            "\n",
            "Dialog Act: location inquiry\n",
            "Utterance: Do you know where the nearest post office is?\n",
            "\n",
            "Dialog Act: location information\n",
            "Utterance: The post office is two blocks down the street.\n",
            "\n"
          ]
        }
      ],
      "source": [
        "import re\n",
        "\n",
        "def recognize_dialog_acts(dialog):\n",
        "    dialog_acts = []\n",
        "\n",
        "    for utterance in dialog:\n",
        "        if re.search(r'\\b(?:hi|hello|good morning|good afternoon|good evening)\\b', utterance, re.IGNORECASE):\n",
        "            dialog_acts.append({\"utterance\": utterance, \"act\": \"greeting\"})\n",
        "        elif re.search(r'\\b(?:how\\'s the weather today)\\b', utterance, re.IGNORECASE):\n",
        "            dialog_acts.append({\"utterance\": utterance, \"act\": \"weather inquiry\"})\n",
        "        elif re.search(r'\\b(?:\\w+ it\\'s going to be \\w+ and \\w+)\\b', utterance, re.IGNORECASE):\n",
        "            dialog_acts.append({\"utterance\": utterance, \"act\": \"weather report\"})\n",
        "        elif re.search(r'\\b(?:please send me the \\w+ by \\d+\\s?(?:am|pm)?)\\b', utterance, re.IGNORECASE):\n",
        "            dialog_acts.append({\"utterance\": utterance, \"act\": \"request\"})\n",
        "        elif re.search(r'\\b(?:of course|sure|yes|okay)\\b', utterance, re.IGNORECASE):\n",
        "            dialog_acts.append({\"utterance\": utterance, \"act\": \"confirmation\"})\n",
        "        elif re.search(r'\\b(?:do you know where(?: the)? nearest (?:\\w+ )?post office is)\\b', utterance, re.IGNORECASE):\n",
        "            dialog_acts.append({\"utterance\": utterance, \"act\": \"location inquiry\"})\n",
        "        elif re.search(r'\\b(?:the post office is \\w+ blocks down the street)\\b', utterance, re.IGNORECASE):\n",
        "            dialog_acts.append({\"utterance\": utterance, \"act\": \"location information\"})\n",
        "        else:\n",
        "            dialog_acts.append({\"utterance\": utterance, \"act\": \"unclassified\"})\n",
        "\n",
        "    return dialog_acts\n",
        "    # Example dialog\n",
        "dialog = [\n",
        "    \"Good morning! How's the weather today?\",\n",
        "    \"I heard it's going to be sunny and warm.\",\n",
        "    \"Could you please send me the report by 3 PM?\",\n",
        "    \"Of course, I'll send it over before the deadline.\",\n",
        "    \"Do you know where the nearest post office is?\",\n",
        "    \"The post office is two blocks down the street.\"\n",
        "]\n",
        "\n",
        "# Recognize dialog acts\n",
        "recognized_acts = recognize_dialog_acts(dialog)\n",
        "\n",
        "# Print results\n",
        "for act in recognized_acts:\n",
        "    print(f\"Dialog Act: {act['act']}\\nUtterance: {act['utterance']}\\n\")"
      ]
    }
  ]
}