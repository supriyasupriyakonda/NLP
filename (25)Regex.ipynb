{
  "nbformat": 4,
  "nbformat_minor": 0,
  "metadata": {
    "colab": {
      "provenance": [],
      "authorship_tag": "ABX9TyP+vlgorWfKwTqWJXo0U6UW",
      "include_colab_link": true
    },
    "kernelspec": {
      "name": "python3",
      "display_name": "Python 3"
    },
    "language_info": {
      "name": "python"
    }
  },
  "cells": [
    {
      "cell_type": "markdown",
      "metadata": {
        "id": "view-in-github",
        "colab_type": "text"
      },
      "source": [
        "<a href=\"https://colab.research.google.com/github/supriyasupriyakonda/NLP/blob/main/(25)Regex.ipynb\" target=\"_parent\"><img src=\"https://colab.research.google.com/assets/colab-badge.svg\" alt=\"Open In Colab\"/></a>"
      ]
    },
    {
      "cell_type": "code",
      "execution_count": 1,
      "metadata": {
        "colab": {
          "base_uri": "https://localhost:8080/"
        },
        "id": "9riwJwmFbZAc",
        "outputId": "d4078a05-d95f-4cca-8bdd-a462d337a14f"
      },
      "outputs": [
        {
          "output_type": "stream",
          "name": "stdout",
          "text": [
            "Original Text:\n",
            "Regular expressions are a powerful tool for pattern matching in text. They provide a flexible way to search and manipulate strings.\n",
            "\n",
            "Regex Pattern: regex\n",
            "No matches found.\n",
            "\n",
            "Regex Pattern: 4G\\*\n",
            "No matches found.\n",
            "\n",
            "Regex Pattern: powerful|flexible|manipulate\n",
            "Matches: ['powerful', 'flexible', 'manipulate']\n"
          ]
        }
      ],
      "source": [
        "import re\n",
        "\n",
        "def perform_regex_operations(text, patterns):\n",
        "    print(\"Original Text:\")\n",
        "    print(text)\n",
        "\n",
        "    for pattern in patterns:\n",
        "        print(\"\\nRegex Pattern:\", pattern)\n",
        "        matches = re.findall(pattern, text)\n",
        "        if matches:\n",
        "            print(\"Matches:\", matches)\n",
        "        else:\n",
        "            print(\"No matches found.\")\n",
        "\n",
        "# Given text\n",
        "text = \"Regular expressions are a powerful tool for pattern matching in text. They provide a flexible way to search and manipulate strings.\"\n",
        "\n",
        "# List of regex patterns\n",
        "regex_patterns = [\n",
        "    r\"regex\",\n",
        "    r\"4G\\*\",\n",
        "    r\"powerful|flexible|manipulate\",\n",
        "]\n",
        "\n",
        "# Perform regex operations on the text\n",
        "perform_regex_operations(text, regex_patterns)\n"
      ]
    }
  ]
}