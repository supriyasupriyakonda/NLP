{
  "nbformat": 4,
  "nbformat_minor": 0,
  "metadata": {
    "colab": {
      "provenance": [],
      "authorship_tag": "ABX9TyOkRZoap50PsRb65xiPAjNq",
      "include_colab_link": true
    },
    "kernelspec": {
      "name": "python3",
      "display_name": "Python 3"
    },
    "language_info": {
      "name": "python"
    }
  },
  "cells": [
    {
      "cell_type": "markdown",
      "metadata": {
        "id": "view-in-github",
        "colab_type": "text"
      },
      "source": [
        "<a href=\"https://colab.research.google.com/github/supriyasupriyakonda/NLP/blob/main/(20)Depende_parsing_.ipynb\" target=\"_parent\"><img src=\"https://colab.research.google.com/assets/colab-badge.svg\" alt=\"Open In Colab\"/></a>"
      ]
    },
    {
      "cell_type": "code",
      "source": [
        "import spacy\n",
        "\n",
        "def dependency_parsing(sentence):\n",
        "    # Load spaCy English language model\n",
        "    nlp = spacy.load(\"en_core_web_sm\")\n",
        "\n",
        "    # Process the input sentence\n",
        "    doc = nlp(sentence)\n",
        "\n",
        "    # Extract dependency relations\n",
        "    dependencies = [(token.text, token.dep_, token.head.text) for token in doc]\n",
        "\n",
        "    return dependencies\n",
        "\n",
        "# Example sentences\n",
        "sentence1 = \"John and Mary went to the store.\"\n",
        "sentence2 = \"The big brown dog chased the small black cat.\"\n",
        "\n",
        "# Perform dependency parsing for each sentence\n",
        "dependencies1 = dependency_parsing(sentence1)\n",
        "dependencies2 = dependency_parsing(sentence2)\n",
        "\n",
        "# Print the results\n",
        "print(\"Dependencies for Sentence 1:\")\n",
        "for dep in dependencies1:\n",
        "    print(f\"{dep[0]} - {dep[1]} - {dep[2]}\")\n",
        "\n",
        "print(\"\\nDependencies for Sentence 2:\")\n",
        "for dep in dependencies2:\n",
        "    print(f\"{dep[0]} - {dep[1]} - {dep[2]}\")"
      ],
      "metadata": {
        "colab": {
          "base_uri": "https://localhost:8080/"
        },
        "id": "5Y_1r84WCztu",
        "outputId": "e6c53716-a770-4700-d37d-6a64755603e5"
      },
      "execution_count": 2,
      "outputs": [
        {
          "output_type": "stream",
          "name": "stdout",
          "text": [
            "Dependencies for Sentence 1:\n",
            "John - nsubj - went\n",
            "and - cc - John\n",
            "Mary - conj - John\n",
            "went - ROOT - went\n",
            "to - prep - went\n",
            "the - det - store\n",
            "store - pobj - to\n",
            ". - punct - went\n",
            "\n",
            "Dependencies for Sentence 2:\n",
            "The - det - dog\n",
            "big - amod - dog\n",
            "brown - amod - dog\n",
            "dog - nsubj - chased\n",
            "chased - ROOT - chased\n",
            "the - det - cat\n",
            "small - amod - cat\n",
            "black - amod - cat\n",
            "cat - dobj - chased\n",
            ". - punct - chased\n"
          ]
        }
      ]
    }
  ]
}