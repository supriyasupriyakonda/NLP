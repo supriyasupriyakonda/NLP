{
  "nbformat": 4,
  "nbformat_minor": 0,
  "metadata": {
    "colab": {
      "provenance": [],
      "authorship_tag": "ABX9TyO/u3Yv1IXitzSR3txUBp9F",
      "include_colab_link": true
    },
    "kernelspec": {
      "name": "python3",
      "display_name": "Python 3"
    },
    "language_info": {
      "name": "python"
    }
  },
  "cells": [
    {
      "cell_type": "markdown",
      "metadata": {
        "id": "view-in-github",
        "colab_type": "text"
      },
      "source": [
        "<a href=\"https://colab.research.google.com/github/supriyasupriyakonda/NLP/blob/main/(21)Extract_key_words.ipynb\" target=\"_parent\"><img src=\"https://colab.research.google.com/assets/colab-badge.svg\" alt=\"Open In Colab\"/></a>"
      ]
    },
    {
      "cell_type": "code",
      "execution_count": 1,
      "metadata": {
        "colab": {
          "base_uri": "https://localhost:8080/"
        },
        "id": "jyvmTyLLHSqP",
        "outputId": "8babf75b-55c3-44e7-fe76-a5594ca625cd"
      },
      "outputs": [
        {
          "output_type": "stream",
          "name": "stdout",
          "text": [
            "Sentence 1: Key Phrases - intelligence, artificial, science\n",
            "Sentence 2: Key Phrases - models, predictions, focuses\n",
            "Sentence 3: Key Phrases - learning, deep, layers\n",
            "Sentence 4: Key Phrases - nodes, called, composed\n",
            "Sentence 5: Key Phrases - language, tasks, commonly\n"
          ]
        }
      ],
      "source": [
        "from sklearn.feature_extraction.text import TfidfVectorizer\n",
        "\n",
        "# Given sentences\n",
        "sentences = [\n",
        "    \"Artificial intelligence (AI) is a field of computer science.\",\n",
        "    \"Machine learning is a subset of AI that focuses on training models to make predictions.\",\n",
        "    \"Deep learning is a type of machine learning that uses neural networks with multiple layers.\",\n",
        "    \"Neural networks are composed of interconnected nodes called neurons.\",\n",
        "    \"Recurrent neural networks (RNNs) are commonly used in natural language processing tasks.\",\n",
        "]\n",
        "\n",
        "# Initialize the TF-IDF vectorizer\n",
        "tfidf_vectorizer = TfidfVectorizer(stop_words='english')\n",
        "\n",
        "# Fit and transform the sentences\n",
        "tfidf_matrix = tfidf_vectorizer.fit_transform(sentences)\n",
        "\n",
        "# Get feature names (words) from the vectorizer\n",
        "feature_names = tfidf_vectorizer.get_feature_names_out()\n",
        "\n",
        "# Identify key phrases by finding words with high TF-IDF scores in each sentence\n",
        "key_phrases = []\n",
        "for i, sentence in enumerate(sentences):\n",
        "    scores = tfidf_matrix[i].toarray().flatten()\n",
        "    # Get indices of top TF-IDF scores\n",
        "    top_indices = scores.argsort()[-3:][::-1]\n",
        "    # Get corresponding words from feature names\n",
        "    top_words = [feature_names[idx] for idx in top_indices]\n",
        "    key_phrases.append(top_words)\n",
        "\n",
        "# Print the identified key phrases for each sentence\n",
        "for i, key_phrase in enumerate(key_phrases):\n",
        "    print(f\"Sentence {i + 1}: Key Phrases - {', '.join(key_phrase)}\")"
      ]
    }
  ]
}