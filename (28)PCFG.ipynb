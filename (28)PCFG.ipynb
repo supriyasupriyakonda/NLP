{
  "nbformat": 4,
  "nbformat_minor": 0,
  "metadata": {
    "colab": {
      "provenance": [],
      "authorship_tag": "ABX9TyPK6AaDL36aN6yO1kbtP622",
      "include_colab_link": true
    },
    "kernelspec": {
      "name": "python3",
      "display_name": "Python 3"
    },
    "language_info": {
      "name": "python"
    }
  },
  "cells": [
    {
      "cell_type": "markdown",
      "metadata": {
        "id": "view-in-github",
        "colab_type": "text"
      },
      "source": [
        "<a href=\"https://colab.research.google.com/github/supriyasupriyakonda/NLP/blob/main/(28)PCFG.ipynb\" target=\"_parent\"><img src=\"https://colab.research.google.com/assets/colab-badge.svg\" alt=\"Open In Colab\"/></a>"
      ]
    },
    {
      "cell_type": "code",
      "execution_count": 9,
      "metadata": {
        "colab": {
          "base_uri": "https://localhost:8080/"
        },
        "id": "6BvQrgwvhvIf",
        "outputId": "c46c850c-0164-4221-95a7-dd32867c0bb4"
      },
      "outputs": [
        {
          "output_type": "stream",
          "name": "stdout",
          "text": [
            "Parse tree: [('S', 1.0)]\n"
          ]
        }
      ],
      "source": [
        "\n",
        "import random\n",
        "\n",
        "grammar = {\n",
        "    \"S\": [\"NP VP\", 1.0],\n",
        "    \"NP\": [\"Det N\", 0.5, \"NP PP\", 0.4, \"'the'\", 0.1],\n",
        "    \"VP\": [\"V NP\", 0.7, \"VP PP\", 0.3],\n",
        "    \"PP\": [\"P NP\", 1.0],\n",
        "    \"Det\": [\"'the'\", 0.7, \"'a'\", 0.3],\n",
        "    \"N\": [\"'fox'\", 0.4, \"'dog'\", 0.3, \"'cat'\", 0.2, \"'bird'\", 0.1],\n",
        "    \"V\": [\"'jumps'\", 0.5, \"'runs'\", 0.3, \"'sits'\", 0.2],\n",
        "    \"P\": [\"'over'\", 0.6, \"'on'\", 0.4]\n",
        "}\n",
        "\n",
        "def parse_sentence(sentence):\n",
        "    parse_tree = []\n",
        "    tokens = sentence.split()\n",
        "\n",
        "    def expand_symbol(symbol):\n",
        "        if symbol in grammar:\n",
        "            options = grammar[symbol]\n",
        "            choice = random.choices(options)[0]\n",
        "\n",
        "            if type(choice) is list:\n",
        "                prob = choice[1]\n",
        "                if random.random() < prob:\n",
        "                    parse_tree.append((symbol, choice[0]))\n",
        "                    for sub_symbol in choice[0]:\n",
        "                        expand_symbol(sub_symbol)\n",
        "                else:\n",
        "                    expand_symbol(symbol)\n",
        "            else:\n",
        "                parse_tree.append((symbol, choice))\n",
        "        else:\n",
        "            parse_tree.append((symbol, tokens.pop(0)))\n",
        "\n",
        "    expand_symbol(\"S\")\n",
        "\n",
        "    return parse_tree\n",
        "\n",
        "sentence = \"The quick brown fox jumps over the lazy dog.\"\n",
        "parsed_tree = parse_sentence(sentence)\n",
        "print(\"Parse tree:\", parsed_tree)\n"
      ]
    }
  ]
}