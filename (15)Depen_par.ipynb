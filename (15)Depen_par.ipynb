{
  "nbformat": 4,
  "nbformat_minor": 0,
  "metadata": {
    "colab": {
      "provenance": [],
      "authorship_tag": "ABX9TyPP4c691IHfUB9Her8qKtTL",
      "include_colab_link": true
    },
    "kernelspec": {
      "name": "python3",
      "display_name": "Python 3"
    },
    "language_info": {
      "name": "python"
    }
  },
  "cells": [
    {
      "cell_type": "markdown",
      "metadata": {
        "id": "view-in-github",
        "colab_type": "text"
      },
      "source": [
        "<a href=\"https://colab.research.google.com/github/supriyasupriyakonda/NLP/blob/main/(15)Depen_par.ipynb\" target=\"_parent\"><img src=\"https://colab.research.google.com/assets/colab-badge.svg\" alt=\"Open In Colab\"/></a>"
      ]
    },
    {
      "cell_type": "code",
      "execution_count": 1,
      "metadata": {
        "colab": {
          "base_uri": "https://localhost:8080/"
        },
        "id": "UOx216LAM4wZ",
        "outputId": "4bd968a9-cbfe-492d-aefc-c803c749f432"
      },
      "outputs": [
        {
          "output_type": "stream",
          "name": "stdout",
          "text": [
            "\n",
            "Original Sentence: The cat sat on the mat.\n",
            "The --(det)--> cat\n",
            "cat --(nsubj)--> sat\n",
            "sat --(ROOT)--> sat\n",
            "on --(prep)--> sat\n",
            "the --(det)--> mat\n",
            "mat --(pobj)--> on\n",
            ". --(punct)--> sat\n",
            "\n",
            "Original Sentence: She quickly ran to catch the bus.\n",
            "She --(nsubj)--> ran\n",
            "quickly --(advmod)--> ran\n",
            "ran --(ROOT)--> ran\n",
            "to --(aux)--> catch\n",
            "catch --(advcl)--> ran\n",
            "the --(det)--> bus\n",
            "bus --(dobj)--> catch\n",
            ". --(punct)--> ran\n"
          ]
        }
      ],
      "source": [
        "import spacy\n",
        "\n",
        "# Load the English model \"en_core_web_sm\"\n",
        "nlp = spacy.load(\"en_core_web_sm\")\n",
        "\n",
        "# Given sentences\n",
        "sentences = [\"The cat sat on the mat.\", \"She quickly ran to catch the bus.\"]\n",
        "\n",
        "# Perform dependency parsing for each sentence\n",
        "for sentence in sentences:\n",
        "    # Process the text using SpaCy\n",
        "    doc = nlp(sentence)\n",
        "\n",
        "    # Print the token dependencies\n",
        "    print(\"\\nOriginal Sentence:\", sentence)\n",
        "    for token in doc:\n",
        "        print(f\"{token.text} --({token.dep_})--> {token.head.text}\")"
      ]
    }
  ]
}