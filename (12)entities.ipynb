{
  "nbformat": 4,
  "nbformat_minor": 0,
  "metadata": {
    "colab": {
      "provenance": [],
      "authorship_tag": "ABX9TyNa3ZEIr/S2YNX6pMG1WDfz",
      "include_colab_link": true
    },
    "kernelspec": {
      "name": "python3",
      "display_name": "Python 3"
    },
    "language_info": {
      "name": "python"
    }
  },
  "cells": [
    {
      "cell_type": "markdown",
      "metadata": {
        "id": "view-in-github",
        "colab_type": "text"
      },
      "source": [
        "<a href=\"https://colab.research.google.com/github/supriyasupriyakonda/NLP/blob/main/(12)entities.ipynb\" target=\"_parent\"><img src=\"https://colab.research.google.com/assets/colab-badge.svg\" alt=\"Open In Colab\"/></a>"
      ]
    },
    {
      "cell_type": "code",
      "execution_count": 1,
      "metadata": {
        "colab": {
          "base_uri": "https://localhost:8080/"
        },
        "id": "iQaflOkDJFax",
        "outputId": "36677a69-b4c1-46d9-91a1-26f18e170132"
      },
      "outputs": [
        {
          "output_type": "stream",
          "name": "stdout",
          "text": [
            "Named Entities:\n",
            "Barack Obama:PERSON\n",
            "44th:ORDINAL\n",
            "the United States:GPE\n",
            "Honolulu:GPE\n",
            "Hawaii:GPE\n"
          ]
        }
      ],
      "source": [
        "import spacy\n",
        "\n",
        "# Load the SpaCy English NLP model\n",
        "nlp = spacy.load(\"en_core_web_sm\")\n",
        "\n",
        "# Given sentence\n",
        "sentence = \"Barack Obama was the 44th President of the United States, and he was born in Honolulu, Hawaii.\"\n",
        "\n",
        "# Process the text with SpaCy\n",
        "doc = nlp(sentence)\n",
        "\n",
        "# Extract and print named entities\n",
        "print(\"Named Entities:\")\n",
        "for ent in doc.ents:\n",
        "    print(f\"{ent.text}:{ent.label_}\")"
      ]
    }
  ]
}